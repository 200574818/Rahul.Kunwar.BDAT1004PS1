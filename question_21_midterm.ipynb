{
 "cells": [
  {
   "cell_type": "code",
   "execution_count": 1,
   "metadata": {},
   "outputs": [
    {
     "name": "stdout",
     "output_type": "stream",
     "text": [
      "5.0\n",
      "0.75\n"
     ]
    }
   ],
   "source": [
    "import math\n",
    "\n",
    "class Point:\n",
    "    def __init__(self, x=0, y=0):\n",
    "        self.x = x\n",
    "        self.y = y\n",
    "\n",
    "class Segment:\n",
    "    def __init__(self, p1, p2):\n",
    "        self.p1 = p1\n",
    "        self.p2 = p2\n",
    "\n",
    "    def length(self):\n",
    "        dx = self.p2.x - self.p1.x\n",
    "        dy = self.p2.y - self.p1.y\n",
    "        return math.sqrt(dx**2 + dy**2)  # Fixing the exponentiation operator here\n",
    "\n",
    "    def slope(self):\n",
    "        dx = self.p2.x - self.p1.x\n",
    "        dy = self.p2.y - self.p1.y\n",
    "\n",
    "        if dx == 0:\n",
    "            return None\n",
    "        return dy / dx\n",
    "\n",
    "# Usage\n",
    "p1 = Point(4, 3)  # Create a Point with x=4 and y=3\n",
    "p2 = Point()      # Create a Point with default values (x=0, y=0)\n",
    "s = Segment(p1, p2)\n",
    "\n",
    "print(s.length())  # this should print 5.0\n",
    "print(s.slope())   # this should print 0.75\n"
   ]
  }
 ],
 "metadata": {
  "kernelspec": {
   "display_name": "base",
   "language": "python",
   "name": "python3"
  },
  "language_info": {
   "codemirror_mode": {
    "name": "ipython",
    "version": 3
   },
   "file_extension": ".py",
   "mimetype": "text/x-python",
   "name": "python",
   "nbconvert_exporter": "python",
   "pygments_lexer": "ipython3",
   "version": "3.11.4"
  },
  "orig_nbformat": 4
 },
 "nbformat": 4,
 "nbformat_minor": 2
}
